{
 "cells": [
  {
   "cell_type": "markdown",
   "id": "1b93ed81",
   "metadata": {},
   "source": [
    "Author: Ichsan Arsyi Putra"
   ]
  },
  {
   "cell_type": "markdown",
   "id": "776cc1ee",
   "metadata": {},
   "source": [
    "## Import Library"
   ]
  },
  {
   "cell_type": "code",
   "execution_count": 2,
   "id": "15292fe1",
   "metadata": {},
   "outputs": [],
   "source": [
    "import pandas as pd\n",
    "import numpy as np\n",
    "import matplotlib.pyplot as plt\n",
    "import seaborn as sns"
   ]
  },
  {
   "cell_type": "markdown",
   "id": "05fca0b5",
   "metadata": {},
   "source": [
    "## Load Dataset"
   ]
  },
  {
   "cell_type": "code",
   "execution_count": 3,
   "id": "72a81362",
   "metadata": {},
   "outputs": [],
   "source": [
    "df = pd.read_csv(\"loan_customer.csv\")"
   ]
  },
  {
   "cell_type": "code",
   "execution_count": 4,
   "id": "9e22d138",
   "metadata": {},
   "outputs": [
    {
     "data": {
      "text/html": [
       "<div>\n",
       "<style scoped>\n",
       "    .dataframe tbody tr th:only-of-type {\n",
       "        vertical-align: middle;\n",
       "    }\n",
       "\n",
       "    .dataframe tbody tr th {\n",
       "        vertical-align: top;\n",
       "    }\n",
       "\n",
       "    .dataframe thead th {\n",
       "        text-align: right;\n",
       "    }\n",
       "</style>\n",
       "<table border=\"1\" class=\"dataframe\">\n",
       "  <thead>\n",
       "    <tr style=\"text-align: right;\">\n",
       "      <th></th>\n",
       "      <th>loan_id</th>\n",
       "      <th>birth_date</th>\n",
       "      <th>phone_number</th>\n",
       "      <th>gender</th>\n",
       "      <th>married</th>\n",
       "      <th>dependents</th>\n",
       "      <th>education</th>\n",
       "      <th>self_employed</th>\n",
       "      <th>applicant_income</th>\n",
       "      <th>coapplicant_income</th>\n",
       "      <th>loan_amount</th>\n",
       "      <th>loan_term_month</th>\n",
       "      <th>loan_term_year</th>\n",
       "      <th>credit_history</th>\n",
       "      <th>has_credit_card</th>\n",
       "      <th>property_type</th>\n",
       "      <th>loan_status</th>\n",
       "    </tr>\n",
       "  </thead>\n",
       "  <tbody>\n",
       "    <tr>\n",
       "      <th>0</th>\n",
       "      <td>LP001002</td>\n",
       "      <td>1977-05-15</td>\n",
       "      <td>6.281142e+11</td>\n",
       "      <td>Male</td>\n",
       "      <td>No</td>\n",
       "      <td>0</td>\n",
       "      <td>Graduate</td>\n",
       "      <td>No</td>\n",
       "      <td>5849.0</td>\n",
       "      <td>0.0</td>\n",
       "      <td>100000</td>\n",
       "      <td>360</td>\n",
       "      <td>30</td>\n",
       "      <td>1.0</td>\n",
       "      <td>NaN</td>\n",
       "      <td>house</td>\n",
       "      <td>APPROVE</td>\n",
       "    </tr>\n",
       "    <tr>\n",
       "      <th>1</th>\n",
       "      <td>LP001003</td>\n",
       "      <td>1979-08-24</td>\n",
       "      <td>6.287764e+11</td>\n",
       "      <td>Male</td>\n",
       "      <td>Yes</td>\n",
       "      <td>1</td>\n",
       "      <td>Graduate</td>\n",
       "      <td>No</td>\n",
       "      <td>4583.0</td>\n",
       "      <td>1508.0</td>\n",
       "      <td>128000</td>\n",
       "      <td>360</td>\n",
       "      <td>30</td>\n",
       "      <td>1.0</td>\n",
       "      <td>NaN</td>\n",
       "      <td>studio</td>\n",
       "      <td>REJECT</td>\n",
       "    </tr>\n",
       "    <tr>\n",
       "      <th>2</th>\n",
       "      <td>LP001005</td>\n",
       "      <td>1991-03-28</td>\n",
       "      <td>6.281192e+11</td>\n",
       "      <td>Male</td>\n",
       "      <td>Yes</td>\n",
       "      <td>0</td>\n",
       "      <td>Graduate</td>\n",
       "      <td>Yes</td>\n",
       "      <td>3000.0</td>\n",
       "      <td>0.0</td>\n",
       "      <td>66000</td>\n",
       "      <td>360</td>\n",
       "      <td>30</td>\n",
       "      <td>1.0</td>\n",
       "      <td>NaN</td>\n",
       "      <td>house</td>\n",
       "      <td>APPROVE</td>\n",
       "    </tr>\n",
       "    <tr>\n",
       "      <th>3</th>\n",
       "      <td>LP001006</td>\n",
       "      <td>1980-06-02</td>\n",
       "      <td>6.285634e+10</td>\n",
       "      <td>Male</td>\n",
       "      <td>Yes</td>\n",
       "      <td>0</td>\n",
       "      <td>Not Graduate</td>\n",
       "      <td>No</td>\n",
       "      <td>2583.0</td>\n",
       "      <td>2358.0</td>\n",
       "      <td>120000</td>\n",
       "      <td>360</td>\n",
       "      <td>30</td>\n",
       "      <td>1.0</td>\n",
       "      <td>NaN</td>\n",
       "      <td>house</td>\n",
       "      <td>APPROVE</td>\n",
       "    </tr>\n",
       "    <tr>\n",
       "      <th>4</th>\n",
       "      <td>LP001008</td>\n",
       "      <td>1989-05-19</td>\n",
       "      <td>6.281130e+11</td>\n",
       "      <td>Male</td>\n",
       "      <td>No</td>\n",
       "      <td>0</td>\n",
       "      <td>Graduate</td>\n",
       "      <td>No</td>\n",
       "      <td>6000.0</td>\n",
       "      <td>0.0</td>\n",
       "      <td>141000</td>\n",
       "      <td>360</td>\n",
       "      <td>30</td>\n",
       "      <td>1.0</td>\n",
       "      <td>NaN</td>\n",
       "      <td>house</td>\n",
       "      <td>APPROVE</td>\n",
       "    </tr>\n",
       "  </tbody>\n",
       "</table>\n",
       "</div>"
      ],
      "text/plain": [
       "    loan_id  birth_date  phone_number gender married dependents     education  \\\n",
       "0  LP001002  1977-05-15  6.281142e+11   Male      No          0      Graduate   \n",
       "1  LP001003  1979-08-24  6.287764e+11   Male     Yes          1      Graduate   \n",
       "2  LP001005  1991-03-28  6.281192e+11   Male     Yes          0      Graduate   \n",
       "3  LP001006  1980-06-02  6.285634e+10   Male     Yes          0  Not Graduate   \n",
       "4  LP001008  1989-05-19  6.281130e+11   Male      No          0      Graduate   \n",
       "\n",
       "  self_employed  applicant_income  coapplicant_income  loan_amount  \\\n",
       "0            No            5849.0                 0.0       100000   \n",
       "1            No            4583.0              1508.0       128000   \n",
       "2           Yes            3000.0                 0.0        66000   \n",
       "3            No            2583.0              2358.0       120000   \n",
       "4            No            6000.0                 0.0       141000   \n",
       "\n",
       "   loan_term_month  loan_term_year  credit_history has_credit_card  \\\n",
       "0              360              30             1.0             NaN   \n",
       "1              360              30             1.0             NaN   \n",
       "2              360              30             1.0             NaN   \n",
       "3              360              30             1.0             NaN   \n",
       "4              360              30             1.0             NaN   \n",
       "\n",
       "  property_type loan_status  \n",
       "0         house     APPROVE  \n",
       "1        studio      REJECT  \n",
       "2         house     APPROVE  \n",
       "3         house     APPROVE  \n",
       "4         house     APPROVE  "
      ]
     },
     "execution_count": 4,
     "metadata": {},
     "output_type": "execute_result"
    }
   ],
   "source": [
    "df.head()"
   ]
  },
  {
   "cell_type": "code",
   "execution_count": 5,
   "id": "9cb7efdd",
   "metadata": {
    "scrolled": false
   },
   "outputs": [
    {
     "name": "stdout",
     "output_type": "stream",
     "text": [
      "<class 'pandas.core.frame.DataFrame'>\n",
      "RangeIndex: 621 entries, 0 to 620\n",
      "Data columns (total 17 columns):\n",
      " #   Column              Non-Null Count  Dtype  \n",
      "---  ------              --------------  -----  \n",
      " 0   loan_id             621 non-null    object \n",
      " 1   birth_date          572 non-null    object \n",
      " 2   phone_number        569 non-null    float64\n",
      " 3   gender              608 non-null    object \n",
      " 4   married             618 non-null    object \n",
      " 5   dependents          605 non-null    object \n",
      " 6   education           620 non-null    object \n",
      " 7   self_employed       588 non-null    object \n",
      " 8   applicant_income    612 non-null    float64\n",
      " 9   coapplicant_income  621 non-null    float64\n",
      " 10  loan_amount         621 non-null    int64  \n",
      " 11  loan_term_month     621 non-null    int64  \n",
      " 12  loan_term_year      621 non-null    int64  \n",
      " 13  credit_history      570 non-null    float64\n",
      " 14  has_credit_card     88 non-null     object \n",
      " 15  property_type       620 non-null    object \n",
      " 16  loan_status         621 non-null    object \n",
      "dtypes: float64(4), int64(3), object(10)\n",
      "memory usage: 82.6+ KB\n"
     ]
    }
   ],
   "source": [
    "df.info()"
   ]
  },
  {
   "cell_type": "markdown",
   "id": "0a07b49e",
   "metadata": {},
   "source": [
    "#### Deskripsi Dataset:\n",
    "1. Dataset memiliki 621 baris (entries/records).\n",
    "2. Terdapat banyak kolom yang memiliki nilai null, seperti birth_date, phone_number, dan gender. Hai ini dapat diketahui karena nilai Non-Null Count < jumlah entries.\n",
    "3. Kolom birth_date memiliki tipe data yang kurang sesuai."
   ]
  },
  {
   "cell_type": "markdown",
   "id": "0b35a20f",
   "metadata": {},
   "source": [
    "## Data Cleaning"
   ]
  },
  {
   "cell_type": "markdown",
   "id": "e024efc0",
   "metadata": {},
   "source": [
    "#### Menangani Missing Values"
   ]
  },
  {
   "cell_type": "code",
   "execution_count": 9,
   "id": "bba32bf2",
   "metadata": {},
   "outputs": [
    {
     "data": {
      "text/plain": [
       "loan_id                 0\n",
       "birth_date             49\n",
       "phone_number           52\n",
       "gender                 13\n",
       "married                 3\n",
       "dependents             16\n",
       "education               1\n",
       "self_employed          33\n",
       "applicant_income        9\n",
       "coapplicant_income      0\n",
       "loan_amount             0\n",
       "loan_term_month         0\n",
       "loan_term_year          0\n",
       "credit_history         51\n",
       "has_credit_card       533\n",
       "property_type           1\n",
       "loan_status             0\n",
       "dtype: int64"
      ]
     },
     "execution_count": 9,
     "metadata": {},
     "output_type": "execute_result"
    }
   ],
   "source": [
    "# Memeriksa keberadaan nilai null\n",
    "df.isnull().sum()"
   ]
  },
  {
   "cell_type": "code",
   "execution_count": 11,
   "id": "6f92d9d5",
   "metadata": {},
   "outputs": [],
   "source": [
    "# Perbaikan tipe data birth_date menjadi datetime\n",
    "df[\"birth_date\"] = pd.to_datetime(df[\"birth_date\"])"
   ]
  },
  {
   "cell_type": "code",
   "execution_count": 12,
   "id": "4387c8a1",
   "metadata": {},
   "outputs": [
    {
     "name": "stdout",
     "output_type": "stream",
     "text": [
      "<class 'pandas.core.frame.DataFrame'>\n",
      "RangeIndex: 621 entries, 0 to 620\n",
      "Data columns (total 17 columns):\n",
      " #   Column              Non-Null Count  Dtype         \n",
      "---  ------              --------------  -----         \n",
      " 0   loan_id             621 non-null    object        \n",
      " 1   birth_date          572 non-null    datetime64[ns]\n",
      " 2   phone_number        569 non-null    float64       \n",
      " 3   gender              608 non-null    object        \n",
      " 4   married             618 non-null    object        \n",
      " 5   dependents          605 non-null    object        \n",
      " 6   education           620 non-null    object        \n",
      " 7   self_employed       588 non-null    object        \n",
      " 8   applicant_income    612 non-null    float64       \n",
      " 9   coapplicant_income  621 non-null    float64       \n",
      " 10  loan_amount         621 non-null    int64         \n",
      " 11  loan_term_month     621 non-null    int64         \n",
      " 12  loan_term_year      621 non-null    int64         \n",
      " 13  credit_history      570 non-null    float64       \n",
      " 14  has_credit_card     88 non-null     object        \n",
      " 15  property_type       620 non-null    object        \n",
      " 16  loan_status         621 non-null    object        \n",
      "dtypes: datetime64[ns](1), float64(4), int64(3), object(9)\n",
      "memory usage: 82.6+ KB\n"
     ]
    }
   ],
   "source": [
    "df.info()"
   ]
  },
  {
   "cell_type": "markdown",
   "id": "6aca06fb",
   "metadata": {},
   "source": [
    "#### Tanggapan terhadap Dataset saat ini\n",
    "1. Diagnosis: Kolom has_credit_card memiliki paling banyak null values\n",
    "2. Tindakan: Hapus kolom has_credit_card"
   ]
  },
  {
   "cell_type": "code",
   "execution_count": 13,
   "id": "099de214",
   "metadata": {},
   "outputs": [
    {
     "data": {
      "text/html": [
       "<div>\n",
       "<style scoped>\n",
       "    .dataframe tbody tr th:only-of-type {\n",
       "        vertical-align: middle;\n",
       "    }\n",
       "\n",
       "    .dataframe tbody tr th {\n",
       "        vertical-align: top;\n",
       "    }\n",
       "\n",
       "    .dataframe thead th {\n",
       "        text-align: right;\n",
       "    }\n",
       "</style>\n",
       "<table border=\"1\" class=\"dataframe\">\n",
       "  <thead>\n",
       "    <tr style=\"text-align: right;\">\n",
       "      <th></th>\n",
       "      <th>loan_id</th>\n",
       "      <th>birth_date</th>\n",
       "      <th>phone_number</th>\n",
       "      <th>gender</th>\n",
       "      <th>married</th>\n",
       "      <th>dependents</th>\n",
       "      <th>education</th>\n",
       "      <th>self_employed</th>\n",
       "      <th>applicant_income</th>\n",
       "      <th>coapplicant_income</th>\n",
       "      <th>loan_amount</th>\n",
       "      <th>loan_term_month</th>\n",
       "      <th>loan_term_year</th>\n",
       "      <th>credit_history</th>\n",
       "      <th>property_type</th>\n",
       "      <th>loan_status</th>\n",
       "    </tr>\n",
       "  </thead>\n",
       "  <tbody>\n",
       "    <tr>\n",
       "      <th>0</th>\n",
       "      <td>LP001002</td>\n",
       "      <td>1977-05-15</td>\n",
       "      <td>6.281142e+11</td>\n",
       "      <td>Male</td>\n",
       "      <td>No</td>\n",
       "      <td>0</td>\n",
       "      <td>Graduate</td>\n",
       "      <td>No</td>\n",
       "      <td>5849.0</td>\n",
       "      <td>0.0</td>\n",
       "      <td>100000</td>\n",
       "      <td>360</td>\n",
       "      <td>30</td>\n",
       "      <td>1.0</td>\n",
       "      <td>house</td>\n",
       "      <td>APPROVE</td>\n",
       "    </tr>\n",
       "    <tr>\n",
       "      <th>1</th>\n",
       "      <td>LP001003</td>\n",
       "      <td>1979-08-24</td>\n",
       "      <td>6.287764e+11</td>\n",
       "      <td>Male</td>\n",
       "      <td>Yes</td>\n",
       "      <td>1</td>\n",
       "      <td>Graduate</td>\n",
       "      <td>No</td>\n",
       "      <td>4583.0</td>\n",
       "      <td>1508.0</td>\n",
       "      <td>128000</td>\n",
       "      <td>360</td>\n",
       "      <td>30</td>\n",
       "      <td>1.0</td>\n",
       "      <td>studio</td>\n",
       "      <td>REJECT</td>\n",
       "    </tr>\n",
       "    <tr>\n",
       "      <th>2</th>\n",
       "      <td>LP001005</td>\n",
       "      <td>1991-03-28</td>\n",
       "      <td>6.281192e+11</td>\n",
       "      <td>Male</td>\n",
       "      <td>Yes</td>\n",
       "      <td>0</td>\n",
       "      <td>Graduate</td>\n",
       "      <td>Yes</td>\n",
       "      <td>3000.0</td>\n",
       "      <td>0.0</td>\n",
       "      <td>66000</td>\n",
       "      <td>360</td>\n",
       "      <td>30</td>\n",
       "      <td>1.0</td>\n",
       "      <td>house</td>\n",
       "      <td>APPROVE</td>\n",
       "    </tr>\n",
       "    <tr>\n",
       "      <th>3</th>\n",
       "      <td>LP001006</td>\n",
       "      <td>1980-06-02</td>\n",
       "      <td>6.285634e+10</td>\n",
       "      <td>Male</td>\n",
       "      <td>Yes</td>\n",
       "      <td>0</td>\n",
       "      <td>Not Graduate</td>\n",
       "      <td>No</td>\n",
       "      <td>2583.0</td>\n",
       "      <td>2358.0</td>\n",
       "      <td>120000</td>\n",
       "      <td>360</td>\n",
       "      <td>30</td>\n",
       "      <td>1.0</td>\n",
       "      <td>house</td>\n",
       "      <td>APPROVE</td>\n",
       "    </tr>\n",
       "    <tr>\n",
       "      <th>4</th>\n",
       "      <td>LP001008</td>\n",
       "      <td>1989-05-19</td>\n",
       "      <td>6.281130e+11</td>\n",
       "      <td>Male</td>\n",
       "      <td>No</td>\n",
       "      <td>0</td>\n",
       "      <td>Graduate</td>\n",
       "      <td>No</td>\n",
       "      <td>6000.0</td>\n",
       "      <td>0.0</td>\n",
       "      <td>141000</td>\n",
       "      <td>360</td>\n",
       "      <td>30</td>\n",
       "      <td>1.0</td>\n",
       "      <td>house</td>\n",
       "      <td>APPROVE</td>\n",
       "    </tr>\n",
       "    <tr>\n",
       "      <th>...</th>\n",
       "      <td>...</td>\n",
       "      <td>...</td>\n",
       "      <td>...</td>\n",
       "      <td>...</td>\n",
       "      <td>...</td>\n",
       "      <td>...</td>\n",
       "      <td>...</td>\n",
       "      <td>...</td>\n",
       "      <td>...</td>\n",
       "      <td>...</td>\n",
       "      <td>...</td>\n",
       "      <td>...</td>\n",
       "      <td>...</td>\n",
       "      <td>...</td>\n",
       "      <td>...</td>\n",
       "      <td>...</td>\n",
       "    </tr>\n",
       "    <tr>\n",
       "      <th>616</th>\n",
       "      <td>LP002978</td>\n",
       "      <td>1976-03-25</td>\n",
       "      <td>6.285650e+11</td>\n",
       "      <td>Female</td>\n",
       "      <td>No</td>\n",
       "      <td>0</td>\n",
       "      <td>Graduate</td>\n",
       "      <td>No</td>\n",
       "      <td>2900.0</td>\n",
       "      <td>0.0</td>\n",
       "      <td>71000</td>\n",
       "      <td>360</td>\n",
       "      <td>30</td>\n",
       "      <td>1.0</td>\n",
       "      <td>studio</td>\n",
       "      <td>APPROVE</td>\n",
       "    </tr>\n",
       "    <tr>\n",
       "      <th>617</th>\n",
       "      <td>LP002979</td>\n",
       "      <td>1987-01-26</td>\n",
       "      <td>6.281165e+11</td>\n",
       "      <td>Male</td>\n",
       "      <td>Yes</td>\n",
       "      <td>3+</td>\n",
       "      <td>Graduate</td>\n",
       "      <td>No</td>\n",
       "      <td>4106.0</td>\n",
       "      <td>0.0</td>\n",
       "      <td>40000</td>\n",
       "      <td>180</td>\n",
       "      <td>15</td>\n",
       "      <td>1.0</td>\n",
       "      <td>studio</td>\n",
       "      <td>APPROVE</td>\n",
       "    </tr>\n",
       "    <tr>\n",
       "      <th>618</th>\n",
       "      <td>LP002983</td>\n",
       "      <td>1982-03-08</td>\n",
       "      <td>6.281158e+11</td>\n",
       "      <td>Male</td>\n",
       "      <td>Yes</td>\n",
       "      <td>1</td>\n",
       "      <td>Graduate</td>\n",
       "      <td>No</td>\n",
       "      <td>8072.0</td>\n",
       "      <td>240.0</td>\n",
       "      <td>253000</td>\n",
       "      <td>360</td>\n",
       "      <td>30</td>\n",
       "      <td>1.0</td>\n",
       "      <td>house</td>\n",
       "      <td>APPROVE</td>\n",
       "    </tr>\n",
       "    <tr>\n",
       "      <th>619</th>\n",
       "      <td>LP002984</td>\n",
       "      <td>1986-12-05</td>\n",
       "      <td>6.281196e+11</td>\n",
       "      <td>Male</td>\n",
       "      <td>Yes</td>\n",
       "      <td>2</td>\n",
       "      <td>Graduate</td>\n",
       "      <td>No</td>\n",
       "      <td>7583.0</td>\n",
       "      <td>0.0</td>\n",
       "      <td>187000</td>\n",
       "      <td>360</td>\n",
       "      <td>30</td>\n",
       "      <td>1.0</td>\n",
       "      <td>house</td>\n",
       "      <td>APPROVE</td>\n",
       "    </tr>\n",
       "    <tr>\n",
       "      <th>620</th>\n",
       "      <td>LP002990</td>\n",
       "      <td>NaT</td>\n",
       "      <td>6.281396e+11</td>\n",
       "      <td>Female</td>\n",
       "      <td>No</td>\n",
       "      <td>0</td>\n",
       "      <td>Graduate</td>\n",
       "      <td>Yes</td>\n",
       "      <td>4583.0</td>\n",
       "      <td>0.0</td>\n",
       "      <td>133000</td>\n",
       "      <td>360</td>\n",
       "      <td>30</td>\n",
       "      <td>0.0</td>\n",
       "      <td>apartment</td>\n",
       "      <td>REJECT</td>\n",
       "    </tr>\n",
       "  </tbody>\n",
       "</table>\n",
       "<p>621 rows × 16 columns</p>\n",
       "</div>"
      ],
      "text/plain": [
       "      loan_id birth_date  phone_number  gender married dependents  \\\n",
       "0    LP001002 1977-05-15  6.281142e+11    Male      No          0   \n",
       "1    LP001003 1979-08-24  6.287764e+11    Male     Yes          1   \n",
       "2    LP001005 1991-03-28  6.281192e+11    Male     Yes          0   \n",
       "3    LP001006 1980-06-02  6.285634e+10    Male     Yes          0   \n",
       "4    LP001008 1989-05-19  6.281130e+11    Male      No          0   \n",
       "..        ...        ...           ...     ...     ...        ...   \n",
       "616  LP002978 1976-03-25  6.285650e+11  Female      No          0   \n",
       "617  LP002979 1987-01-26  6.281165e+11    Male     Yes         3+   \n",
       "618  LP002983 1982-03-08  6.281158e+11    Male     Yes          1   \n",
       "619  LP002984 1986-12-05  6.281196e+11    Male     Yes          2   \n",
       "620  LP002990        NaT  6.281396e+11  Female      No          0   \n",
       "\n",
       "        education self_employed  applicant_income  coapplicant_income  \\\n",
       "0        Graduate            No            5849.0                 0.0   \n",
       "1        Graduate            No            4583.0              1508.0   \n",
       "2        Graduate           Yes            3000.0                 0.0   \n",
       "3    Not Graduate            No            2583.0              2358.0   \n",
       "4        Graduate            No            6000.0                 0.0   \n",
       "..            ...           ...               ...                 ...   \n",
       "616      Graduate            No            2900.0                 0.0   \n",
       "617      Graduate            No            4106.0                 0.0   \n",
       "618      Graduate            No            8072.0               240.0   \n",
       "619      Graduate            No            7583.0                 0.0   \n",
       "620      Graduate           Yes            4583.0                 0.0   \n",
       "\n",
       "     loan_amount  loan_term_month  loan_term_year  credit_history  \\\n",
       "0         100000              360              30             1.0   \n",
       "1         128000              360              30             1.0   \n",
       "2          66000              360              30             1.0   \n",
       "3         120000              360              30             1.0   \n",
       "4         141000              360              30             1.0   \n",
       "..           ...              ...             ...             ...   \n",
       "616        71000              360              30             1.0   \n",
       "617        40000              180              15             1.0   \n",
       "618       253000              360              30             1.0   \n",
       "619       187000              360              30             1.0   \n",
       "620       133000              360              30             0.0   \n",
       "\n",
       "    property_type loan_status  \n",
       "0           house     APPROVE  \n",
       "1          studio      REJECT  \n",
       "2           house     APPROVE  \n",
       "3           house     APPROVE  \n",
       "4           house     APPROVE  \n",
       "..            ...         ...  \n",
       "616        studio     APPROVE  \n",
       "617        studio     APPROVE  \n",
       "618         house     APPROVE  \n",
       "619         house     APPROVE  \n",
       "620     apartment      REJECT  \n",
       "\n",
       "[621 rows x 16 columns]"
      ]
     },
     "execution_count": 13,
     "metadata": {},
     "output_type": "execute_result"
    }
   ],
   "source": [
    "# Hapus kolom has_credit_card\n",
    "df.drop(\"has_credit_card\", axis=1, inplace=True)\n",
    "df"
   ]
  },
  {
   "cell_type": "code",
   "execution_count": 16,
   "id": "beffbc32",
   "metadata": {},
   "outputs": [
    {
     "data": {
      "text/plain": [
       "(621, 16)"
      ]
     },
     "execution_count": 16,
     "metadata": {},
     "output_type": "execute_result"
    }
   ],
   "source": [
    "# Periksa dimensi dataset\n",
    "df.shape"
   ]
  },
  {
   "cell_type": "markdown",
   "id": "d509b7ae",
   "metadata": {},
   "source": [
    "- Langkah selanjutnya: Hapus baris/records yang memiliki nilai null."
   ]
  },
  {
   "cell_type": "code",
   "execution_count": 20,
   "id": "bb5ab297",
   "metadata": {},
   "outputs": [
    {
     "data": {
      "text/plain": [
       "(434, 16)"
      ]
     },
     "execution_count": 20,
     "metadata": {},
     "output_type": "execute_result"
    }
   ],
   "source": [
    "# Hapus baris berisi nilai null\n",
    "df.dropna(inplace=True)\n",
    "df.shape"
   ]
  },
  {
   "cell_type": "markdown",
   "id": "66e90a3b",
   "metadata": {},
   "source": [
    "- Dataset saat ini memiliki 434 baris dan 16 kolom"
   ]
  },
  {
   "cell_type": "code",
   "execution_count": 21,
   "id": "59b2ea07",
   "metadata": {
    "scrolled": true
   },
   "outputs": [
    {
     "data": {
      "text/plain": [
       "loan_id               0\n",
       "birth_date            0\n",
       "phone_number          0\n",
       "gender                0\n",
       "married               0\n",
       "dependents            0\n",
       "education             0\n",
       "self_employed         0\n",
       "applicant_income      0\n",
       "coapplicant_income    0\n",
       "loan_amount           0\n",
       "loan_term_month       0\n",
       "loan_term_year        0\n",
       "credit_history        0\n",
       "property_type         0\n",
       "loan_status           0\n",
       "dtype: int64"
      ]
     },
     "execution_count": 21,
     "metadata": {},
     "output_type": "execute_result"
    }
   ],
   "source": [
    "# Periksa nilai null pada dataset\n",
    "df.isnull().sum()"
   ]
  },
  {
   "cell_type": "markdown",
   "id": "65503740",
   "metadata": {},
   "source": [
    "#### Menangani Duplikasi Data"
   ]
  },
  {
   "cell_type": "code",
   "execution_count": 23,
   "id": "a439c13c",
   "metadata": {},
   "outputs": [
    {
     "data": {
      "text/plain": [
       "5"
      ]
     },
     "execution_count": 23,
     "metadata": {},
     "output_type": "execute_result"
    }
   ],
   "source": [
    "# Memeriksa keberadaan duplikasi data\n",
    "df.duplicated().sum()"
   ]
  },
  {
   "cell_type": "code",
   "execution_count": 24,
   "id": "84bc07af",
   "metadata": {},
   "outputs": [
    {
     "data": {
      "text/plain": [
       "0"
      ]
     },
     "execution_count": 24,
     "metadata": {},
     "output_type": "execute_result"
    }
   ],
   "source": [
    "# Hapus data yang terduplikasi\n",
    "df.drop_duplicates(inplace=True)\n",
    "\n",
    "# Memeriksa kembali keberadaan duplikasi data\n",
    "df.duplicated().sum()"
   ]
  },
  {
   "cell_type": "markdown",
   "id": "832349ae",
   "metadata": {},
   "source": [
    "#### Menangani nilai pencilan (outliers) berdasarkan kolom:\n",
    "1. applicant_income\n",
    "2. coapplicant_income\n",
    "3. loan_amount"
   ]
  },
  {
   "cell_type": "markdown",
   "id": "1d442300",
   "metadata": {},
   "source": [
    "##### 1. Kolom applicant_income"
   ]
  },
  {
   "cell_type": "code",
   "execution_count": 25,
   "id": "4ebf3ca1",
   "metadata": {},
   "outputs": [
    {
     "data": {
      "text/plain": [
       "<AxesSubplot:xlabel='applicant_income'>"
      ]
     },
     "execution_count": 25,
     "metadata": {},
     "output_type": "execute_result"
    },
    {
     "data": {
      "image/png": "[encoded data removed]",
      "text/plain": [
       "<Figure size 432x288 with 1 Axes>"
      ]
     },
     "metadata": {
      "needs_background": "light"
     },
     "output_type": "display_data"
    }
   ],
   "source": [
    "# Identifikasi outlier menggunakan boxpplot\n",
    "sns.boxplot(x=\"applicant_income\", data=df)"
   ]
  },
  {
   "cell_type": "markdown",
   "id": "b36118ac",
   "metadata": {},
   "source": [
    "- Filter outlier menggunakan metode quantile (IQR):"
   ]
  },
  {
   "cell_type": "code",
   "execution_count": 27,
   "id": "3e3c2001",
   "metadata": {},
   "outputs": [
    {
     "name": "stdout",
     "output_type": "stream",
     "text": [
      "Jumlah baris sebelum filter: 429\n",
      "Jumlah baris setelah filter: 397\n"
     ]
    }
   ],
   "source": [
    "print(\"Jumlah baris sebelum filter:\", len(df))\n",
    "\n",
    "\n",
    "# Mendapatkan Q1, Q3, dan IQR\n",
    "Q1 = df[\"applicant_income\"].quantile(0.25)\n",
    "Q3 = df[\"applicant_income\"].quantile(0.75)\n",
    "IQR = Q3 - Q1\n",
    "\n",
    "low_limit = Q1 - 1.5*IQR\n",
    "high_limit = Q3 + 1.5*IQR\n",
    "\n",
    "# Filter dataset berdasarkan low_limit dan high_limit\n",
    "df = df[(df[\"applicant_income\"] >= low_limit) & (df[\"applicant_income\"] <= high_limit)]\n",
    "\n",
    "print(\"Jumlah baris setelah filter:\", len(df))"
   ]
  },
  {
   "cell_type": "code",
   "execution_count": 29,
   "id": "7833540f",
   "metadata": {
    "scrolled": true
   },
   "outputs": [
    {
     "data": {
      "text/plain": [
       "<AxesSubplot:xlabel='applicant_income'>"
      ]
     },
     "execution_count": 29,
     "metadata": {},
     "output_type": "execute_result"
    },
    {
     "data": {
      "image/png": "[encoded data removed]",
      "text/plain": [
       "<Figure size 432x288 with 1 Axes>"
      ]
     },
     "metadata": {
      "needs_background": "light"
     },
     "output_type": "display_data"
    }
   ],
   "source": [
    "# Tampilan boxplot setelah filter\n",
    "sns.boxplot(x=\"applicant_income\", data=df)"
   ]
  },
  {
   "cell_type": "markdown",
   "id": "3cb11259",
   "metadata": {},
   "source": [
    "##### 2. Kolom coapplicant_income"
   ]
  },
  {
   "cell_type": "code",
   "execution_count": 30,
   "id": "9239c296",
   "metadata": {},
   "outputs": [
    {
     "data": {
      "text/plain": [
       "<AxesSubplot:xlabel='coapplicant_income'>"
      ]
     },
     "execution_count": 30,
     "metadata": {},
     "output_type": "execute_result"
    },
    {
     "data": {
      "image/png": "[encoded data removed]",
      "text/plain": [
       "<Figure size 432x288 with 1 Axes>"
      ]
     },
     "metadata": {
      "needs_background": "light"
     },
     "output_type": "display_data"
    }
   ],
   "source": [
    "# Identifikasi outlier menggunakan boxpplot\n",
    "sns.boxplot(x=\"coapplicant_income\", data=df)"
   ]
  },
  {
   "cell_type": "markdown",
   "id": "ad015f7d",
   "metadata": {},
   "source": [
    "- Filter outlier menggunakan metode quantile (IQR):"
   ]
  },
  {
   "cell_type": "code",
   "execution_count": 31,
   "id": "1cf4451e",
   "metadata": {},
   "outputs": [
    {
     "name": "stdout",
     "output_type": "stream",
     "text": [
      "Jumlah baris sebelum filter: 397\n",
      "Jumlah baris setelah filter: 386\n"
     ]
    }
   ],
   "source": [
    "print(\"Jumlah baris sebelum filter:\", len(df))\n",
    "\n",
    "\n",
    "# Mendapatkan Q1, Q3, dan IQR\n",
    "Q1 = df[\"coapplicant_income\"].quantile(0.25)\n",
    "Q3 = df[\"coapplicant_income\"].quantile(0.75)\n",
    "IQR = Q3 - Q1\n",
    "\n",
    "low_limit = Q1 - 1.5*IQR\n",
    "high_limit = Q3 + 1.5*IQR\n",
    "\n",
    "# Filter dataset berdasarkan low_limit dan high_limit\n",
    "df = df[(df[\"coapplicant_income\"] >= low_limit) & (df[\"coapplicant_income\"] <= high_limit)]\n",
    "\n",
    "print(\"Jumlah baris setelah filter:\", len(df))"
   ]
  },
  {
   "cell_type": "code",
   "execution_count": 32,
   "id": "340fdfef",
   "metadata": {
    "scrolled": false
   },
   "outputs": [
    {
     "data": {
      "text/plain": [
       "<AxesSubplot:xlabel='coapplicant_income'>"
      ]
     },
     "execution_count": 32,
     "metadata": {},
     "output_type": "execute_result"
    },
    {
     "data": {
      "image/png": "[encoded data removed]",
      "text/plain": [
       "<Figure size 432x288 with 1 Axes>"
      ]
     },
     "metadata": {
      "needs_background": "light"
     },
     "output_type": "display_data"
    }
   ],
   "source": [
    "# Tampilan boxplot setelah filter\n",
    "sns.boxplot(x=\"coapplicant_income\", data=df)"
   ]
  },
  {
   "cell_type": "markdown",
   "id": "f957c54c",
   "metadata": {},
   "source": [
    "##### 3. Kolom loan_amount"
   ]
  },
  {
   "cell_type": "code",
   "execution_count": 33,
   "id": "b2f8913d",
   "metadata": {},
   "outputs": [
    {
     "data": {
      "text/plain": [
       "<AxesSubplot:xlabel='loan_amount'>"
      ]
     },
     "execution_count": 33,
     "metadata": {},
     "output_type": "execute_result"
    },
    {
     "data": {
      "image/png": "[encoded data removed]",
      "text/plain": [
       "<Figure size 432x288 with 1 Axes>"
      ]
     },
     "metadata": {
      "needs_background": "light"
     },
     "output_type": "display_data"
    }
   ],
   "source": [
    "# Identifikasi outlier menggunakan boxpplot\n",
    "sns.boxplot(x=\"loan_amount\", data=df)"
   ]
  },
  {
   "cell_type": "markdown",
   "id": "1a54f4df",
   "metadata": {},
   "source": [
    "- Filter outlier menggunakan metode quantile (IQR):"
   ]
  },
  {
   "cell_type": "code",
   "execution_count": 34,
   "id": "f96c41cb",
   "metadata": {},
   "outputs": [
    {
     "name": "stdout",
     "output_type": "stream",
     "text": [
      "Jumlah baris sebelum filter: 386\n",
      "Jumlah baris setelah filter: 366\n"
     ]
    }
   ],
   "source": [
    "print(\"Jumlah baris sebelum filter:\", len(df))\n",
    "\n",
    "\n",
    "# Mendapatkan Q1, Q3, dan IQR\n",
    "Q1 = df[\"loan_amount\"].quantile(0.25)\n",
    "Q3 = df[\"loan_amount\"].quantile(0.75)\n",
    "IQR = Q3 - Q1\n",
    "\n",
    "low_limit = Q1 - 1.5*IQR\n",
    "high_limit = Q3 + 1.5*IQR\n",
    "\n",
    "# Filter dataset berdasarkan low_limit dan high_limit\n",
    "df = df[(df[\"loan_amount\"] >= low_limit) & (df[\"loan_amount\"] <= high_limit)]\n",
    "\n",
    "print(\"Jumlah baris setelah filter:\", len(df))"
   ]
  },
  {
   "cell_type": "code",
   "execution_count": 35,
   "id": "c9539a35",
   "metadata": {
    "scrolled": false
   },
   "outputs": [
    {
     "data": {
      "text/plain": [
       "<AxesSubplot:xlabel='loan_amount'>"
      ]
     },
     "execution_count": 35,
     "metadata": {},
     "output_type": "execute_result"
    },
    {
     "data": {
      "image/png": "[encoded data removed]",
      "text/plain": [
       "<Figure size 432x288 with 1 Axes>"
      ]
     },
     "metadata": {
      "needs_background": "light"
     },
     "output_type": "display_data"
    }
   ],
   "source": [
    "# Tampilan boxplot setelah filter\n",
    "sns.boxplot(x=\"loan_amount\", data=df)"
   ]
  },
  {
   "cell_type": "markdown",
   "id": "98d229ee",
   "metadata": {},
   "source": [
    "## Feature Encoding (Jika diperlukan)"
   ]
  },
  {
   "cell_type": "code",
   "execution_count": 43,
   "id": "8aec3788",
   "metadata": {
    "scrolled": true
   },
   "outputs": [
    {
     "name": "stdout",
     "output_type": "stream",
     "text": [
      "Kolom gender ['Male' 'Female']\n",
      "Kolom married ['No' 'Yes']\n",
      "Kolom dependents ['0' '1' '3+' '2']\n",
      "Kolom education ['Graduate' 'Not Graduate']\n",
      "Kolom self_employed ['No' 'Yes']\n",
      "Kolom property_type ['house' 'studio' 'apartment']\n"
     ]
    }
   ],
   "source": [
    "df_fe = df.copy()\n",
    "\n",
    "# Daftar nama kolom bertipe kategorikal\n",
    "cats = [\"gender\", \"married\", \"dependents\", \"education\", \"self_employed\", \"property_type\"]\n",
    "\n",
    "# Menampilkan kategori setiap kolom\n",
    "for i in cats:\n",
    "    print(\"Kolom\", i, df_fe[i].unique())"
   ]
  },
  {
   "cell_type": "code",
   "execution_count": 41,
   "id": "ffd1412b",
   "metadata": {},
   "outputs": [],
   "source": [
    "# Membuat Mapping/Dictionary untuk Encoding\n",
    "map_gender = {\n",
    "    \"Male\" : 0,\n",
    "    \"Female\" : 1\n",
    "}\n",
    "map_married = {\n",
    "    \"No\" : 0,\n",
    "    \"Yes\" : 1\n",
    "}\n",
    "map_dependents = {\n",
    "    \"0\" : 0,\n",
    "    \"1\" : 1,\n",
    "    \"2\" : 2,\n",
    "    \"3+\" : 3\n",
    "}\n",
    "map_education = {\n",
    "    \"Not Graduate\" : 0,\n",
    "    \"Graduate\" : 1\n",
    "}\n",
    "map_self_employed = {\n",
    "    \"No\" : 0,\n",
    "    \"Yes\" : 1\n",
    "}\n",
    "map_property_type = {\n",
    "    \"house\" : 0,\n",
    "    \"studio\" : 1,\n",
    "    \"apartment\" : 2\n",
    "}"
   ]
  },
  {
   "cell_type": "code",
   "execution_count": 44,
   "id": "f52b0a19",
   "metadata": {},
   "outputs": [
    {
     "data": {
      "text/html": [
       "<div>\n",
       "<style scoped>\n",
       "    .dataframe tbody tr th:only-of-type {\n",
       "        vertical-align: middle;\n",
       "    }\n",
       "\n",
       "    .dataframe tbody tr th {\n",
       "        vertical-align: top;\n",
       "    }\n",
       "\n",
       "    .dataframe thead th {\n",
       "        text-align: right;\n",
       "    }\n",
       "</style>\n",
       "<table border=\"1\" class=\"dataframe\">\n",
       "  <thead>\n",
       "    <tr style=\"text-align: right;\">\n",
       "      <th></th>\n",
       "      <th>loan_id</th>\n",
       "      <th>birth_date</th>\n",
       "      <th>phone_number</th>\n",
       "      <th>gender</th>\n",
       "      <th>married</th>\n",
       "      <th>dependents</th>\n",
       "      <th>education</th>\n",
       "      <th>self_employed</th>\n",
       "      <th>applicant_income</th>\n",
       "      <th>coapplicant_income</th>\n",
       "      <th>loan_amount</th>\n",
       "      <th>loan_term_month</th>\n",
       "      <th>loan_term_year</th>\n",
       "      <th>credit_history</th>\n",
       "      <th>property_type</th>\n",
       "      <th>loan_status</th>\n",
       "    </tr>\n",
       "  </thead>\n",
       "  <tbody>\n",
       "    <tr>\n",
       "      <th>0</th>\n",
       "      <td>LP001002</td>\n",
       "      <td>1977-05-15</td>\n",
       "      <td>6.281142e+11</td>\n",
       "      <td>0</td>\n",
       "      <td>0</td>\n",
       "      <td>0</td>\n",
       "      <td>1</td>\n",
       "      <td>0</td>\n",
       "      <td>5849.0</td>\n",
       "      <td>0.0</td>\n",
       "      <td>100000</td>\n",
       "      <td>360</td>\n",
       "      <td>30</td>\n",
       "      <td>1.0</td>\n",
       "      <td>0</td>\n",
       "      <td>APPROVE</td>\n",
       "    </tr>\n",
       "    <tr>\n",
       "      <th>1</th>\n",
       "      <td>LP001003</td>\n",
       "      <td>1979-08-24</td>\n",
       "      <td>6.287764e+11</td>\n",
       "      <td>0</td>\n",
       "      <td>1</td>\n",
       "      <td>1</td>\n",
       "      <td>1</td>\n",
       "      <td>0</td>\n",
       "      <td>4583.0</td>\n",
       "      <td>1508.0</td>\n",
       "      <td>128000</td>\n",
       "      <td>360</td>\n",
       "      <td>30</td>\n",
       "      <td>1.0</td>\n",
       "      <td>1</td>\n",
       "      <td>REJECT</td>\n",
       "    </tr>\n",
       "    <tr>\n",
       "      <th>2</th>\n",
       "      <td>LP001005</td>\n",
       "      <td>1991-03-28</td>\n",
       "      <td>6.281192e+11</td>\n",
       "      <td>0</td>\n",
       "      <td>1</td>\n",
       "      <td>0</td>\n",
       "      <td>1</td>\n",
       "      <td>1</td>\n",
       "      <td>3000.0</td>\n",
       "      <td>0.0</td>\n",
       "      <td>66000</td>\n",
       "      <td>360</td>\n",
       "      <td>30</td>\n",
       "      <td>1.0</td>\n",
       "      <td>0</td>\n",
       "      <td>APPROVE</td>\n",
       "    </tr>\n",
       "    <tr>\n",
       "      <th>3</th>\n",
       "      <td>LP001006</td>\n",
       "      <td>1980-06-02</td>\n",
       "      <td>6.285634e+10</td>\n",
       "      <td>0</td>\n",
       "      <td>1</td>\n",
       "      <td>0</td>\n",
       "      <td>0</td>\n",
       "      <td>0</td>\n",
       "      <td>2583.0</td>\n",
       "      <td>2358.0</td>\n",
       "      <td>120000</td>\n",
       "      <td>360</td>\n",
       "      <td>30</td>\n",
       "      <td>1.0</td>\n",
       "      <td>0</td>\n",
       "      <td>APPROVE</td>\n",
       "    </tr>\n",
       "    <tr>\n",
       "      <th>4</th>\n",
       "      <td>LP001008</td>\n",
       "      <td>1989-05-19</td>\n",
       "      <td>6.281130e+11</td>\n",
       "      <td>0</td>\n",
       "      <td>0</td>\n",
       "      <td>0</td>\n",
       "      <td>1</td>\n",
       "      <td>0</td>\n",
       "      <td>6000.0</td>\n",
       "      <td>0.0</td>\n",
       "      <td>141000</td>\n",
       "      <td>360</td>\n",
       "      <td>30</td>\n",
       "      <td>1.0</td>\n",
       "      <td>0</td>\n",
       "      <td>APPROVE</td>\n",
       "    </tr>\n",
       "    <tr>\n",
       "      <th>...</th>\n",
       "      <td>...</td>\n",
       "      <td>...</td>\n",
       "      <td>...</td>\n",
       "      <td>...</td>\n",
       "      <td>...</td>\n",
       "      <td>...</td>\n",
       "      <td>...</td>\n",
       "      <td>...</td>\n",
       "      <td>...</td>\n",
       "      <td>...</td>\n",
       "      <td>...</td>\n",
       "      <td>...</td>\n",
       "      <td>...</td>\n",
       "      <td>...</td>\n",
       "      <td>...</td>\n",
       "      <td>...</td>\n",
       "    </tr>\n",
       "    <tr>\n",
       "      <th>614</th>\n",
       "      <td>LP002964</td>\n",
       "      <td>1984-02-27</td>\n",
       "      <td>6.281191e+11</td>\n",
       "      <td>0</td>\n",
       "      <td>1</td>\n",
       "      <td>2</td>\n",
       "      <td>0</td>\n",
       "      <td>0</td>\n",
       "      <td>3987.0</td>\n",
       "      <td>1411.0</td>\n",
       "      <td>157000</td>\n",
       "      <td>360</td>\n",
       "      <td>30</td>\n",
       "      <td>1.0</td>\n",
       "      <td>1</td>\n",
       "      <td>APPROVE</td>\n",
       "    </tr>\n",
       "    <tr>\n",
       "      <th>615</th>\n",
       "      <td>LP002974</td>\n",
       "      <td>1988-03-24</td>\n",
       "      <td>6.285739e+11</td>\n",
       "      <td>0</td>\n",
       "      <td>1</td>\n",
       "      <td>0</td>\n",
       "      <td>1</td>\n",
       "      <td>0</td>\n",
       "      <td>3232.0</td>\n",
       "      <td>1950.0</td>\n",
       "      <td>108000</td>\n",
       "      <td>360</td>\n",
       "      <td>30</td>\n",
       "      <td>1.0</td>\n",
       "      <td>1</td>\n",
       "      <td>APPROVE</td>\n",
       "    </tr>\n",
       "    <tr>\n",
       "      <th>616</th>\n",
       "      <td>LP002978</td>\n",
       "      <td>1976-03-25</td>\n",
       "      <td>6.285650e+11</td>\n",
       "      <td>1</td>\n",
       "      <td>0</td>\n",
       "      <td>0</td>\n",
       "      <td>1</td>\n",
       "      <td>0</td>\n",
       "      <td>2900.0</td>\n",
       "      <td>0.0</td>\n",
       "      <td>71000</td>\n",
       "      <td>360</td>\n",
       "      <td>30</td>\n",
       "      <td>1.0</td>\n",
       "      <td>1</td>\n",
       "      <td>APPROVE</td>\n",
       "    </tr>\n",
       "    <tr>\n",
       "      <th>617</th>\n",
       "      <td>LP002979</td>\n",
       "      <td>1987-01-26</td>\n",
       "      <td>6.281165e+11</td>\n",
       "      <td>0</td>\n",
       "      <td>1</td>\n",
       "      <td>3</td>\n",
       "      <td>1</td>\n",
       "      <td>0</td>\n",
       "      <td>4106.0</td>\n",
       "      <td>0.0</td>\n",
       "      <td>40000</td>\n",
       "      <td>180</td>\n",
       "      <td>15</td>\n",
       "      <td>1.0</td>\n",
       "      <td>1</td>\n",
       "      <td>APPROVE</td>\n",
       "    </tr>\n",
       "    <tr>\n",
       "      <th>619</th>\n",
       "      <td>LP002984</td>\n",
       "      <td>1986-12-05</td>\n",
       "      <td>6.281196e+11</td>\n",
       "      <td>0</td>\n",
       "      <td>1</td>\n",
       "      <td>2</td>\n",
       "      <td>1</td>\n",
       "      <td>0</td>\n",
       "      <td>7583.0</td>\n",
       "      <td>0.0</td>\n",
       "      <td>187000</td>\n",
       "      <td>360</td>\n",
       "      <td>30</td>\n",
       "      <td>1.0</td>\n",
       "      <td>0</td>\n",
       "      <td>APPROVE</td>\n",
       "    </tr>\n",
       "  </tbody>\n",
       "</table>\n",
       "<p>366 rows × 16 columns</p>\n",
       "</div>"
      ],
      "text/plain": [
       "      loan_id birth_date  phone_number  gender  married  dependents  \\\n",
       "0    LP001002 1977-05-15  6.281142e+11       0        0           0   \n",
       "1    LP001003 1979-08-24  6.287764e+11       0        1           1   \n",
       "2    LP001005 1991-03-28  6.281192e+11       0        1           0   \n",
       "3    LP001006 1980-06-02  6.285634e+10       0        1           0   \n",
       "4    LP001008 1989-05-19  6.281130e+11       0        0           0   \n",
       "..        ...        ...           ...     ...      ...         ...   \n",
       "614  LP002964 1984-02-27  6.281191e+11       0        1           2   \n",
       "615  LP002974 1988-03-24  6.285739e+11       0        1           0   \n",
       "616  LP002978 1976-03-25  6.285650e+11       1        0           0   \n",
       "617  LP002979 1987-01-26  6.281165e+11       0        1           3   \n",
       "619  LP002984 1986-12-05  6.281196e+11       0        1           2   \n",
       "\n",
       "     education  self_employed  applicant_income  coapplicant_income  \\\n",
       "0            1              0            5849.0                 0.0   \n",
       "1            1              0            4583.0              1508.0   \n",
       "2            1              1            3000.0                 0.0   \n",
       "3            0              0            2583.0              2358.0   \n",
       "4            1              0            6000.0                 0.0   \n",
       "..         ...            ...               ...                 ...   \n",
       "614          0              0            3987.0              1411.0   \n",
       "615          1              0            3232.0              1950.0   \n",
       "616          1              0            2900.0                 0.0   \n",
       "617          1              0            4106.0                 0.0   \n",
       "619          1              0            7583.0                 0.0   \n",
       "\n",
       "     loan_amount  loan_term_month  loan_term_year  credit_history  \\\n",
       "0         100000              360              30             1.0   \n",
       "1         128000              360              30             1.0   \n",
       "2          66000              360              30             1.0   \n",
       "3         120000              360              30             1.0   \n",
       "4         141000              360              30             1.0   \n",
       "..           ...              ...             ...             ...   \n",
       "614       157000              360              30             1.0   \n",
       "615       108000              360              30             1.0   \n",
       "616        71000              360              30             1.0   \n",
       "617        40000              180              15             1.0   \n",
       "619       187000              360              30             1.0   \n",
       "\n",
       "     property_type loan_status  \n",
       "0                0     APPROVE  \n",
       "1                1      REJECT  \n",
       "2                0     APPROVE  \n",
       "3                0     APPROVE  \n",
       "4                0     APPROVE  \n",
       "..             ...         ...  \n",
       "614              1     APPROVE  \n",
       "615              1     APPROVE  \n",
       "616              1     APPROVE  \n",
       "617              1     APPROVE  \n",
       "619              0     APPROVE  \n",
       "\n",
       "[366 rows x 16 columns]"
      ]
     },
     "execution_count": 44,
     "metadata": {},
     "output_type": "execute_result"
    }
   ],
   "source": [
    "# Menjalankan Encoding\n",
    "df_fe[\"gender\"] = df_fe[\"gender\"].map(map_gender)\n",
    "df_fe[\"married\"] = df_fe[\"married\"].map(map_married)\n",
    "df_fe[\"dependents\"] = df_fe[\"dependents\"].map(map_dependents)\n",
    "df_fe[\"education\"] = df_fe[\"education\"].map(map_education)\n",
    "df_fe[\"self_employed\"] = df_fe[\"self_employed\"].map(map_self_employed)\n",
    "df_fe[\"property_type\"] = df_fe[\"property_type\"].map(map_property_type)\n",
    "\n",
    "df_fe"
   ]
  },
  {
   "cell_type": "markdown",
   "id": "ce51c013",
   "metadata": {},
   "source": [
    "## Wawasan Bisnis (Insights)"
   ]
  },
  {
   "cell_type": "markdown",
   "id": "7ecbbd73",
   "metadata": {},
   "source": [
    "#### 1. Analisis minat pelanggan berdasarkan pada tipe properti"
   ]
  },
  {
   "cell_type": "code",
   "execution_count": 46,
   "id": "2c9a0ee1",
   "metadata": {
    "scrolled": true
   },
   "outputs": [
    {
     "data": {
      "text/html": [
       "<div>\n",
       "<style scoped>\n",
       "    .dataframe tbody tr th:only-of-type {\n",
       "        vertical-align: middle;\n",
       "    }\n",
       "\n",
       "    .dataframe tbody tr th {\n",
       "        vertical-align: top;\n",
       "    }\n",
       "\n",
       "    .dataframe thead th {\n",
       "        text-align: right;\n",
       "    }\n",
       "</style>\n",
       "<table border=\"1\" class=\"dataframe\">\n",
       "  <thead>\n",
       "    <tr style=\"text-align: right;\">\n",
       "      <th></th>\n",
       "      <th>gender</th>\n",
       "      <th>property_type</th>\n",
       "      <th>counts</th>\n",
       "    </tr>\n",
       "  </thead>\n",
       "  <tbody>\n",
       "    <tr>\n",
       "      <th>0</th>\n",
       "      <td>Female</td>\n",
       "      <td>apartment</td>\n",
       "      <td>34</td>\n",
       "    </tr>\n",
       "    <tr>\n",
       "      <th>1</th>\n",
       "      <td>Female</td>\n",
       "      <td>house</td>\n",
       "      <td>16</td>\n",
       "    </tr>\n",
       "    <tr>\n",
       "      <th>2</th>\n",
       "      <td>Female</td>\n",
       "      <td>studio</td>\n",
       "      <td>17</td>\n",
       "    </tr>\n",
       "    <tr>\n",
       "      <th>3</th>\n",
       "      <td>Male</td>\n",
       "      <td>apartment</td>\n",
       "      <td>114</td>\n",
       "    </tr>\n",
       "    <tr>\n",
       "      <th>4</th>\n",
       "      <td>Male</td>\n",
       "      <td>house</td>\n",
       "      <td>98</td>\n",
       "    </tr>\n",
       "    <tr>\n",
       "      <th>5</th>\n",
       "      <td>Male</td>\n",
       "      <td>studio</td>\n",
       "      <td>87</td>\n",
       "    </tr>\n",
       "  </tbody>\n",
       "</table>\n",
       "</div>"
      ],
      "text/plain": [
       "   gender property_type  counts\n",
       "0  Female     apartment      34\n",
       "1  Female         house      16\n",
       "2  Female        studio      17\n",
       "3    Male     apartment     114\n",
       "4    Male         house      98\n",
       "5    Male        studio      87"
      ]
     },
     "execution_count": 46,
     "metadata": {},
     "output_type": "execute_result"
    }
   ],
   "source": [
    "df_mt = df.groupby([\"gender\", \"property_type\"])[\"loan_id\"].count().reset_index()\n",
    "df_mt.columns = [\"gender\", \"property_type\", \"counts\"]\n",
    "df_mt"
   ]
  },
  {
   "cell_type": "code",
   "execution_count": 48,
   "id": "3e2e3323",
   "metadata": {
    "scrolled": false
   },
   "outputs": [
    {
     "data": {
      "image/png": "[encoded data removed]",
      "text/plain": [
       "<Figure size 864x576 with 1 Axes>"
      ]
     },
     "metadata": {},
     "output_type": "display_data"
    }
   ],
   "source": [
    "# Visualisasi data menggunakan diagram\n",
    "sns.set(style=\"darkgrid\")\n",
    "f, ax = plt.subplots(1, 1, figsize=(12,8))\n",
    "sns.countplot(x=\"property_type\", data=df, hue=\"gender\", palette=\"Set2\")\n",
    "\n",
    "for bar in ax.patches:\n",
    "    bar_value = bar.get_height()\n",
    "    text = f'{bar_value:,}'\n",
    "    text_x = bar.get_x() + bar.get_width() / 2\n",
    "    text_y = bar.get_y() + bar_value\n",
    "    bar_color = bar.get_facecolor()\n",
    "    ax.text(text_x, text_y, text, ha=\"center\", va=\"bottom\", color=\"black\", size=12)\n",
    "    \n",
    "ax.set_xlabel(\"Tipe Properti\", labelpad=15)\n",
    "ax.set_ylabel(\"Jumlah\", labelpad=15)\n",
    "ax.set_title(\"Minat Pelanggan Berdasarkan Tipe Properti\")\n",
    "plt.tight_layout()"
   ]
  },
  {
   "cell_type": "markdown",
   "id": "d8cdd605",
   "metadata": {},
   "source": [
    "##### Insight:\n",
    "- Apartment merupakan jenis properti yang paling diminati pelanggan, baik laki-laki maupun perempuan."
   ]
  },
  {
   "cell_type": "markdown",
   "id": "9b3cad35",
   "metadata": {},
   "source": [
    "#### 2. Analisis pengaruh status perkawinan terhadap jangka waktu meminjam"
   ]
  },
  {
   "cell_type": "code",
   "execution_count": 50,
   "id": "553a566d",
   "metadata": {},
   "outputs": [
    {
     "data": {
      "text/html": [
       "<div>\n",
       "<style scoped>\n",
       "    .dataframe tbody tr th:only-of-type {\n",
       "        vertical-align: middle;\n",
       "    }\n",
       "\n",
       "    .dataframe tbody tr th {\n",
       "        vertical-align: top;\n",
       "    }\n",
       "\n",
       "    .dataframe thead th {\n",
       "        text-align: right;\n",
       "    }\n",
       "</style>\n",
       "<table border=\"1\" class=\"dataframe\">\n",
       "  <thead>\n",
       "    <tr style=\"text-align: right;\">\n",
       "      <th></th>\n",
       "      <th>married</th>\n",
       "      <th>loan_term_year</th>\n",
       "      <th>number_of_applicant</th>\n",
       "    </tr>\n",
       "  </thead>\n",
       "  <tbody>\n",
       "    <tr>\n",
       "      <th>0</th>\n",
       "      <td>No</td>\n",
       "      <td>3</td>\n",
       "      <td>2</td>\n",
       "    </tr>\n",
       "    <tr>\n",
       "      <th>1</th>\n",
       "      <td>No</td>\n",
       "      <td>5</td>\n",
       "      <td>1</td>\n",
       "    </tr>\n",
       "    <tr>\n",
       "      <th>2</th>\n",
       "      <td>No</td>\n",
       "      <td>10</td>\n",
       "      <td>1</td>\n",
       "    </tr>\n",
       "    <tr>\n",
       "      <th>3</th>\n",
       "      <td>No</td>\n",
       "      <td>15</td>\n",
       "      <td>4</td>\n",
       "    </tr>\n",
       "    <tr>\n",
       "      <th>4</th>\n",
       "      <td>No</td>\n",
       "      <td>25</td>\n",
       "      <td>3</td>\n",
       "    </tr>\n",
       "    <tr>\n",
       "      <th>5</th>\n",
       "      <td>No</td>\n",
       "      <td>30</td>\n",
       "      <td>119</td>\n",
       "    </tr>\n",
       "    <tr>\n",
       "      <th>6</th>\n",
       "      <td>No</td>\n",
       "      <td>40</td>\n",
       "      <td>6</td>\n",
       "    </tr>\n",
       "    <tr>\n",
       "      <th>7</th>\n",
       "      <td>Yes</td>\n",
       "      <td>5</td>\n",
       "      <td>1</td>\n",
       "    </tr>\n",
       "    <tr>\n",
       "      <th>8</th>\n",
       "      <td>Yes</td>\n",
       "      <td>7</td>\n",
       "      <td>3</td>\n",
       "    </tr>\n",
       "    <tr>\n",
       "      <th>9</th>\n",
       "      <td>Yes</td>\n",
       "      <td>10</td>\n",
       "      <td>1</td>\n",
       "    </tr>\n",
       "    <tr>\n",
       "      <th>10</th>\n",
       "      <td>Yes</td>\n",
       "      <td>15</td>\n",
       "      <td>22</td>\n",
       "    </tr>\n",
       "    <tr>\n",
       "      <th>11</th>\n",
       "      <td>Yes</td>\n",
       "      <td>20</td>\n",
       "      <td>2</td>\n",
       "    </tr>\n",
       "    <tr>\n",
       "      <th>12</th>\n",
       "      <td>Yes</td>\n",
       "      <td>25</td>\n",
       "      <td>5</td>\n",
       "    </tr>\n",
       "    <tr>\n",
       "      <th>13</th>\n",
       "      <td>Yes</td>\n",
       "      <td>30</td>\n",
       "      <td>191</td>\n",
       "    </tr>\n",
       "    <tr>\n",
       "      <th>14</th>\n",
       "      <td>Yes</td>\n",
       "      <td>40</td>\n",
       "      <td>5</td>\n",
       "    </tr>\n",
       "  </tbody>\n",
       "</table>\n",
       "</div>"
      ],
      "text/plain": [
       "   married  loan_term_year  number_of_applicant\n",
       "0       No               3                    2\n",
       "1       No               5                    1\n",
       "2       No              10                    1\n",
       "3       No              15                    4\n",
       "4       No              25                    3\n",
       "5       No              30                  119\n",
       "6       No              40                    6\n",
       "7      Yes               5                    1\n",
       "8      Yes               7                    3\n",
       "9      Yes              10                    1\n",
       "10     Yes              15                   22\n",
       "11     Yes              20                    2\n",
       "12     Yes              25                    5\n",
       "13     Yes              30                  191\n",
       "14     Yes              40                    5"
      ]
     },
     "execution_count": 50,
     "metadata": {},
     "output_type": "execute_result"
    }
   ],
   "source": [
    "df_sj = df.groupby([\"married\", \"loan_term_year\"])[\"loan_id\"].count().reset_index()\n",
    "df_sj.columns = [\"married\", \"loan_term_year\", \"number_of_applicant\"]\n",
    "df_sj"
   ]
  },
  {
   "cell_type": "code",
   "execution_count": 57,
   "id": "63dd6c20",
   "metadata": {},
   "outputs": [
    {
     "data": {
      "text/plain": [
       "<AxesSubplot:xlabel='loan_term_year', ylabel='Count'>"
      ]
     },
     "execution_count": 57,
     "metadata": {},
     "output_type": "execute_result"
    },
    {
     "data": {
      "image/png": "[encoded data removed]",
      "text/plain": [
       "<Figure size 432x288 with 1 Axes>"
      ]
     },
     "metadata": {},
     "output_type": "display_data"
    }
   ],
   "source": [
    "# Visualisasi data menggunakan histogram (tanpa mempertimbangkan status perkawinan)\n",
    "sns.histplot(data=df, x=\"loan_term_year\", bins=10, color=\"b\")"
   ]
  },
  {
   "cell_type": "markdown",
   "id": "e3ac4762",
   "metadata": {},
   "source": [
    "Pengelompokan grafik ke dalam kategori:\n",
    "- `<15`\n",
    "- `15-25`\n",
    "- `30`\n",
    "- `>30`"
   ]
  },
  {
   "cell_type": "code",
   "execution_count": 59,
   "id": "8d8892db",
   "metadata": {},
   "outputs": [
    {
     "name": "stdout",
     "output_type": "stream",
     "text": [
      "{1: '<15', 2: '<15', 3: '<15', 4: '<15', 5: '<15', 6: '<15', 7: '<15', 8: '<15', 9: '<15', 10: '<15', 11: '<15', 12: '<15', 13: '<15', 14: '<15', 15: '15-25', 16: '15-25', 17: '15-25', 18: '15-25', 19: '15-25', 20: '15-25', 21: '15-25', 22: '15-25', 23: '15-25', 24: '15-25', 25: '15-25', 30: '30', 31: '>30', 32: '>30', 33: '>30', 34: '>30', 35: '>30', 36: '>30', 37: '>30', 38: '>30', 39: '>30', 40: '>30'}\n"
     ]
    }
   ],
   "source": [
    "loan_term_year_group = {}\n",
    "\n",
    "for i in range(1,41):\n",
    "    if i<15:\n",
    "        loan_term_year_group[i] = \"<15\"\n",
    "    elif i>=15 and i<=25:\n",
    "        loan_term_year_group[i] = \"15-25\"\n",
    "    elif i==30:\n",
    "        loan_term_year_group[i] = \"30\"\n",
    "    elif i>30:\n",
    "        loan_term_year_group[i] = \">30\"\n",
    "    else:\n",
    "        pass\n",
    "\n",
    "print(loan_term_year_group)"
   ]
  },
  {
   "cell_type": "code",
   "execution_count": 60,
   "id": "2400cbf7",
   "metadata": {
    "scrolled": false
   },
   "outputs": [
    {
     "data": {
      "text/html": [
       "<div>\n",
       "<style scoped>\n",
       "    .dataframe tbody tr th:only-of-type {\n",
       "        vertical-align: middle;\n",
       "    }\n",
       "\n",
       "    .dataframe tbody tr th {\n",
       "        vertical-align: top;\n",
       "    }\n",
       "\n",
       "    .dataframe thead th {\n",
       "        text-align: right;\n",
       "    }\n",
       "</style>\n",
       "<table border=\"1\" class=\"dataframe\">\n",
       "  <thead>\n",
       "    <tr style=\"text-align: right;\">\n",
       "      <th></th>\n",
       "      <th>married</th>\n",
       "      <th>loan_term_year</th>\n",
       "      <th>number_of_applicant</th>\n",
       "      <th>loan_term_year_group</th>\n",
       "    </tr>\n",
       "  </thead>\n",
       "  <tbody>\n",
       "    <tr>\n",
       "      <th>0</th>\n",
       "      <td>No</td>\n",
       "      <td>3</td>\n",
       "      <td>2</td>\n",
       "      <td>&lt;15</td>\n",
       "    </tr>\n",
       "    <tr>\n",
       "      <th>1</th>\n",
       "      <td>No</td>\n",
       "      <td>5</td>\n",
       "      <td>1</td>\n",
       "      <td>&lt;15</td>\n",
       "    </tr>\n",
       "    <tr>\n",
       "      <th>2</th>\n",
       "      <td>No</td>\n",
       "      <td>10</td>\n",
       "      <td>1</td>\n",
       "      <td>&lt;15</td>\n",
       "    </tr>\n",
       "    <tr>\n",
       "      <th>3</th>\n",
       "      <td>No</td>\n",
       "      <td>15</td>\n",
       "      <td>4</td>\n",
       "      <td>15-25</td>\n",
       "    </tr>\n",
       "    <tr>\n",
       "      <th>4</th>\n",
       "      <td>No</td>\n",
       "      <td>25</td>\n",
       "      <td>3</td>\n",
       "      <td>15-25</td>\n",
       "    </tr>\n",
       "    <tr>\n",
       "      <th>5</th>\n",
       "      <td>No</td>\n",
       "      <td>30</td>\n",
       "      <td>119</td>\n",
       "      <td>30</td>\n",
       "    </tr>\n",
       "    <tr>\n",
       "      <th>6</th>\n",
       "      <td>No</td>\n",
       "      <td>40</td>\n",
       "      <td>6</td>\n",
       "      <td>&gt;30</td>\n",
       "    </tr>\n",
       "    <tr>\n",
       "      <th>7</th>\n",
       "      <td>Yes</td>\n",
       "      <td>5</td>\n",
       "      <td>1</td>\n",
       "      <td>&lt;15</td>\n",
       "    </tr>\n",
       "    <tr>\n",
       "      <th>8</th>\n",
       "      <td>Yes</td>\n",
       "      <td>7</td>\n",
       "      <td>3</td>\n",
       "      <td>&lt;15</td>\n",
       "    </tr>\n",
       "    <tr>\n",
       "      <th>9</th>\n",
       "      <td>Yes</td>\n",
       "      <td>10</td>\n",
       "      <td>1</td>\n",
       "      <td>&lt;15</td>\n",
       "    </tr>\n",
       "    <tr>\n",
       "      <th>10</th>\n",
       "      <td>Yes</td>\n",
       "      <td>15</td>\n",
       "      <td>22</td>\n",
       "      <td>15-25</td>\n",
       "    </tr>\n",
       "    <tr>\n",
       "      <th>11</th>\n",
       "      <td>Yes</td>\n",
       "      <td>20</td>\n",
       "      <td>2</td>\n",
       "      <td>15-25</td>\n",
       "    </tr>\n",
       "    <tr>\n",
       "      <th>12</th>\n",
       "      <td>Yes</td>\n",
       "      <td>25</td>\n",
       "      <td>5</td>\n",
       "      <td>15-25</td>\n",
       "    </tr>\n",
       "    <tr>\n",
       "      <th>13</th>\n",
       "      <td>Yes</td>\n",
       "      <td>30</td>\n",
       "      <td>191</td>\n",
       "      <td>30</td>\n",
       "    </tr>\n",
       "    <tr>\n",
       "      <th>14</th>\n",
       "      <td>Yes</td>\n",
       "      <td>40</td>\n",
       "      <td>5</td>\n",
       "      <td>&gt;30</td>\n",
       "    </tr>\n",
       "  </tbody>\n",
       "</table>\n",
       "</div>"
      ],
      "text/plain": [
       "   married  loan_term_year  number_of_applicant loan_term_year_group\n",
       "0       No               3                    2                  <15\n",
       "1       No               5                    1                  <15\n",
       "2       No              10                    1                  <15\n",
       "3       No              15                    4                15-25\n",
       "4       No              25                    3                15-25\n",
       "5       No              30                  119                   30\n",
       "6       No              40                    6                  >30\n",
       "7      Yes               5                    1                  <15\n",
       "8      Yes               7                    3                  <15\n",
       "9      Yes              10                    1                  <15\n",
       "10     Yes              15                   22                15-25\n",
       "11     Yes              20                    2                15-25\n",
       "12     Yes              25                    5                15-25\n",
       "13     Yes              30                  191                   30\n",
       "14     Yes              40                    5                  >30"
      ]
     },
     "execution_count": 60,
     "metadata": {},
     "output_type": "execute_result"
    }
   ],
   "source": [
    "# Membuat kolom baru berdasarkan hasil grouping\n",
    "df_sj[\"loan_term_year_group\"] = df_sj[\"loan_term_year\"].replace(loan_term_year_group)\n",
    "\n",
    "df_sj"
   ]
  },
  {
   "cell_type": "code",
   "execution_count": 62,
   "id": "c1bc72ef",
   "metadata": {},
   "outputs": [
    {
     "data": {
      "text/plain": [
       "Text(0, 0.5, 'Jumlah Pendaftar')"
      ]
     },
     "execution_count": 62,
     "metadata": {},
     "output_type": "execute_result"
    },
    {
     "data": {
      "image/png": "[encoded data removed]",
      "text/plain": [
       "<Figure size 1080x720 with 1 Axes>"
      ]
     },
     "metadata": {},
     "output_type": "display_data"
    }
   ],
   "source": [
    "# Visualisasi data dengan grouping yang baru\n",
    "plt.figure(figsize=(15,10))\n",
    "sns.barplot(x=\"loan_term_year_group\", y=\"number_of_applicant\", hue=\"married\", data=df_sj)\n",
    "\n",
    "plt.tick_params(axis=\"both\", which=\"major\", labelsize=12)\n",
    "plt.grid()\n",
    "plt.legend(title=\"Status Perkawinan\", title_fontsize=14, prop={\"size\":12})\n",
    "\n",
    "plt.xlabel(\"Durasi Pinjaman (dalam Tahun)\", fontsize=14)\n",
    "plt.ylabel(\"Jumlah Pendaftar\", fontsize=14)"
   ]
  },
  {
   "cell_type": "markdown",
   "id": "c8e8b7fa",
   "metadata": {},
   "source": [
    "##### Insight:\n",
    "- Pendaftar paling banyak mengajukan pinjaman dengan durasi jatuh tempo 30 tahun. Hal ini berlaku bagi pendaftar yang belum maupun sudah menikah."
   ]
  },
  {
   "cell_type": "markdown",
   "id": "3d561fa7",
   "metadata": {},
   "source": [
    "## Kesimpulan\n",
    "\n",
    "Kesimpulan dari hasil pengamatan:\n",
    "1. Pendaftar pinjaman didominasi oleh laki-laki.\n",
    "2. Jenis properti yang paling diminati adalah apartment.\n",
    "3. Durasi pinjaman terfavorit bagi pendaftar adalah 30 tahun. Hal ini terjadi pada pendaftar yang belum maupun sudah menikah."
   ]
  },
  {
   "cell_type": "markdown",
   "id": "e316c877",
   "metadata": {},
   "source": [
    "Selengkapnya di:\n",
    "[Repositori Github Saya](https://github.com/ichsanarsyi/ds-bank-loan-analisys)"
   ]
  }
 ],
 "metadata": {
  "kernelspec": {
   "display_name": "Python 3 (ipykernel)",
   "language": "python",
   "name": "python3"
  },
  "language_info": {
   "codemirror_mode": {
    "name": "ipython",
    "version": 3
   },
   "file_extension": ".py",
   "mimetype": "text/x-python",
   "name": "python",
   "nbconvert_exporter": "python",
   "pygments_lexer": "ipython3",
   "version": "3.9.7"
  }
 },
 "nbformat": 4,
 "nbformat_minor": 5
}
